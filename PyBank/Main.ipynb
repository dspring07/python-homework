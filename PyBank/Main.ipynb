{
 "cells": [
  {
   "cell_type": "code",
   "execution_count": null,
   "id": "af3e84ad-88cc-47d6-a2b0-fad2d4e5bd4f",
   "metadata": {},
   "outputs": [],
   "source": [
    "import pandas as pd\n",
    "import numpy as np\n",
    "import numpy-finacial as npf"
   ]
  },
  {
   "cell_type": "code",
   "execution_count": null,
   "id": "b7b5e90a-2088-462a-879e-20b0984c1f49",
   "metadata": {},
   "outputs": [],
   "source": [
    "from pathlib import path"
   ]
  },
  {
   "cell_type": "code",
   "execution_count": 98,
   "id": "0c2e6b01-ae13-4cd1-91ae-70256a14423c",
   "metadata": {},
   "outputs": [
    {
     "name": "stdout",
     "output_type": "stream",
     "text": [
      "        Date  Profit/Losses\n",
      "0   Jan-2010         867884\n",
      "1   Feb-2010         984655\n",
      "2   Mar-2010         322013\n",
      "3   Apr-2010         -69417\n",
      "4   May-2010         310503\n",
      "..       ...            ...\n",
      "81  Oct-2016         102685\n",
      "82  Nov-2016         795914\n",
      "83  Dec-2016          60988\n",
      "84  Jan-2017         138230\n",
      "85  Feb-2017         671099\n",
      "\n",
      "[86 rows x 2 columns]\n"
     ]
    }
   ],
   "source": [
    "# Upload financial data and print to review\n",
    "file_to_load = Path(\"budget_data.csv\")\n",
    "file_to_ouput = path(\"budget_data.txt')\n",
    "file_to_load = pd.read_csv(\"budget_data.csv\")\n",
    "print (file_to_load)"
   ]
  },
  {
   "cell_type": "code",
   "execution_count": 114,
   "id": "4329b39c-a65c-40bd-a9f0-9c8c0cd3c68a",
   "metadata": {},
   "outputs": [],
   "source": [
    "# USING LOOPS and DATA LISTS\n",
    "\n",
    "# Define initial value of parameters and lists (columns of date and pnl)\n",
    "total_months = 0\n",
    "total_net_pnl = 0\n",
    "prev_month_pnl = 0\n",
    "month_of_change = []\n",
    "net_change = []\n",
    "greatest_profits = [\"\", 0]\n",
    "greatest_losses = [\"\", 999999]"
   ]
  },
  {
   "cell_type": "code",
   "execution_count": null,
   "id": "06411ce1-5504-4915-a62b-41cac7a5a9de",
   "metadata": {},
   "outputs": [],
   "source": []
  },
  {
   "cell_type": "code",
   "execution_count": 134,
   "id": "7f44f470-6c04-4e74-ab76-2d6b946714f3",
   "metadata": {},
   "outputs": [
    {
     "name": "stdout",
     "output_type": "stream",
     "text": [
      "['Date', 'Profit/Losses']\n"
     ]
    }
   ],
   "source": [
    "# Read the csv file\n",
    "with open(file_to_load) as budget_data:\n",
    "    pnl = csv.reader(budget_data)\n",
    "    \n",
    "    # Read and print the header row to confirm type (not data)\n",
    "    header = next(pnl)\n",
    "    print(header)\n",
    "\n",
    "    # Start reading date (month and finanical data (pnl as an integer)) from second row \n",
    "    # where total net pnl is value in second column second row in first month. Previous month pnl used to calculate monthly change.\n",
    "    first_row = next(pnl)\n",
    "    total_months = total_months + 1\n",
    "    total_net_pnl = total_net_pnl + int(first_row[1])\n",
    "    prev_month_pnl = int(first_row[1])\n",
    "\n",
    "    #Iterate/loop through each row until end of file\n",
    "    for row in pnl:\n",
    "\n",
    "        # Calculate Total Net P/L and number of months\n",
    "        total_months = total_months + 1\n",
    "        total_net_pnl = total_net_pnl + int(row[1])\n",
    "\n",
    "\n",
    "        # Calculate the monthly change of pnl to determine max and min months of the reporting period\n",
    "        monthly_change = int(row[1]) - prev_net_pnl\n",
    "        prev_month_pnl = int(row[1])\n",
    "        net_change_list = net_change_list + [monthly_change]\n",
    "        month_of_change = month_of_change + [row[0]]\n",
    "\n",
    "        # Calculate the greatest monthly change by comparing profits and losses over reporting period\n",
    "        # Calculater month of greatest profiuts\n",
    "        if monthly_change > greatest_profits[1]:\n",
    "            greatest_profits[0] = row[0]\n",
    "            greatest_profits[1] = monthly_change\n",
    "\n",
    "        # Calculate the month of gretest losses in Profit/Losses\n",
    "        if monthly_change < greatest_losses[1]:\n",
    "            greatest_losses[0] = row[0]\n",
    "            greatest_losses[1] = monthly_change\n",
    "\n",
    "# Calculate the Average monthly change in pnl, to two decimal places, as sum of montlhy changes divided by the number of elements\n",
    "net_monthly_avg = round(sum(net_change_list) / len(net_change_list),2)"
   ]
  },
  {
   "cell_type": "code",
   "execution_count": 133,
   "id": "79d26c05-6386-4188-83c3-a1908986f3ef",
   "metadata": {},
   "outputs": [],
   "source": [
    "# Export the results to text file\n",
    "with open(file_to_output, \"w\") as txt_file:\n",
    "    txt_file.write(f\"Financial Analysis\\n\")\n",
    "    txt_file.write(f\"----------------------------\\n\")\n",
    "    txt_file.write(f\"Total Months: {total_months}\\n\")\n",
    "    txt_file.write(f\"Total: ${total_net_pnl}\\n\")\n",
    "    txt_file.write(f\"Average  Change: ${net_monthly_avg}\\n\")\n",
    "    txt_file.write(f\"Greatest Increase in Profits: {greatest_profits[0]} (${greatest_profits[1]})\\n\")\n",
    "    txt_file.write(f\"Greatest Decrease in Profits: {greatest_losses[0]} (${greatest_losses[1]})\\n\")"
   ]
  },
  {
   "cell_type": "code",
   "execution_count": null,
   "id": "b2fcb517-58ab-473c-9783-1996a611d056",
   "metadata": {},
   "outputs": [],
   "source": []
  },
  {
   "cell_type": "code",
   "execution_count": null,
   "id": "8e863f05-c6bc-4dfa-9afc-22cd2dc99c27",
   "metadata": {},
   "outputs": [],
   "source": []
  },
  {
   "cell_type": "code",
   "execution_count": null,
   "id": "82bddf13-ffdd-424d-a050-75406a1b4355",
   "metadata": {},
   "outputs": [],
   "source": [
    "# Upload financial data and print to review\n",
    "uploaded_file = Path(\"budget_data.csv\")\n",
    "uploaded_file = pd.read_csv(\"budget_data.csv\")\n"
   ]
  },
  {
   "cell_type": "code",
   "execution_count": 126,
   "id": "9c53d153-243a-40cc-ac75-848ab6684943",
   "metadata": {},
   "outputs": [
    {
     "name": "stdout",
     "output_type": "stream",
     "text": [
      "38382578\n"
     ]
    }
   ],
   "source": [
    "# Using sum function\n",
    "total_net_s = sum(uploaded_data['Profit/Losses'])\n",
    "print (total_net_s)"
   ]
  },
  {
   "cell_type": "code",
   "execution_count": null,
   "id": "65a1aa6e-d6b3-4c9b-9b0a-6899365e1558",
   "metadata": {},
   "outputs": [],
   "source": []
  }
 ],
 "metadata": {
  "kernelspec": {
   "display_name": "Python 3",
   "language": "python",
   "name": "python3"
  },
  "language_info": {
   "codemirror_mode": {
    "name": "ipython",
    "version": 3
   },
   "file_extension": ".py",
   "mimetype": "text/x-python",
   "name": "python",
   "nbconvert_exporter": "python",
   "pygments_lexer": "ipython3",
   "version": "3.9.2"
  }
 },
 "nbformat": 4,
 "nbformat_minor": 5
}
